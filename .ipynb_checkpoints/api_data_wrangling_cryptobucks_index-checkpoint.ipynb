{
 "cells": [
  {
   "cell_type": "markdown",
   "metadata": {},
   "source": [
    "In this notebook, we pull some data from the CoinMarketCap API. CoinMarketCap is currently the most widely used aggregator of crypto market data."
   ]
  },
  {
   "cell_type": "markdown",
   "metadata": {},
   "source": [
    "As a first step, you will need to register a free account on the http://coinmarketcap.com/ website."
   ]
  },
  {
   "cell_type": "markdown",
   "metadata": {},
   "source": [
    "After you register, you will be provided with a unique API key, that you should store:"
   ]
  },
  {
   "cell_type": "code",
   "execution_count": 1,
   "metadata": {},
   "outputs": [],
   "source": [
    "# Store the API key as a string - according to PEP8, constants are always named in all upper case\n",
    "API_KEY = 'redacted'"
   ]
  },
  {
   "cell_type": "markdown",
   "metadata": {},
   "source": [
    "CoinMarketCap has data on a lot of cryptocurrencies, but, unfortunately, commercial use requires a Startup subscription."
   ]
  },
  {
   "cell_type": "markdown",
   "metadata": {},
   "source": [
    "For this mini project, we will focus on market cap data from the CoinMarketCap, which is available for free. We'll try to calculate a crypto index (the cryptobucks 50 index, based on the S&P 500)."
   ]
  },
  {
   "cell_type": "markdown",
   "metadata": {},
   "source": [
    "You can find the detailed CoinMarketCap API instructions here: https://coinmarketcap.com/api/documentation/v1/#section/Authentication"
   ]
  },
  {
   "cell_type": "markdown",
   "metadata": {},
   "source": [
    "While there is a dedicated Python package for connecting to the CoinMarketCap API, we would prefer that you use the *requests* package, which can be easily downloaded using *pip* or *conda*. You can find the documentation for the package here: http://docs.python-requests.org/en/master/ "
   ]
  },
  {
   "cell_type": "markdown",
   "metadata": {},
   "source": [
    "Finally, apart from the *requests* package, you are encouraged to not use any third party Python packages, such as *pandas*, and instead focus on what's available in the Python Standard Library (the *collections* module might come in handy: https://pymotw.com/3/collections/ ).\n",
    "Also, since you won't have access to DataFrames, you are encouraged to us Python's native data structures - preferably dictionaries, though some questions can also be answered using lists.\n",
    "You can read more on these data structures here: https://docs.python.org/3/tutorial/datastructures.html"
   ]
  },
  {
   "cell_type": "markdown",
   "metadata": {},
   "source": [
    "Keep in mind that the JSON responses you will be getting from the API map almost one-to-one to Python's dictionaries. Unfortunately, they can be very nested, so make sure you read up on indexing dictionaries in the documentation provided above."
   ]
  },
  {
   "cell_type": "code",
   "execution_count": 2,
   "metadata": {},
   "outputs": [],
   "source": [
    "# First, import the relevant modules\n",
    "from requests import Request, Session\n",
    "from requests.exceptions import ConnectionError, Timeout, TooManyRedirects\n",
    "import json"
   ]
  },
  {
   "cell_type": "code",
   "execution_count": 3,
   "metadata": {},
   "outputs": [
    {
     "name": "stdout",
     "output_type": "stream",
     "text": [
      "{'status': {'timestamp': '2021-03-14T15:09:55.455Z', 'error_code': 0, 'error_message': None, 'elapsed': 16, 'credit_count': 1, 'notice': None, 'total_count': 4327}, 'data': [{'id': 1, 'name': 'Bitcoin', 'symbol': 'BTC', 'slug': 'bitcoin', 'num_market_pairs': 9853, 'date_added': '2013-04-28T00:00:00.000Z', 'tags': ['mineable', 'pow', 'sha-256', 'store-of-value', 'state-channels', 'coinbase-ventures-portfolio', 'three-arrows-capital-portfolio', 'polychain-capital-portfolio'], 'max_supply': 21000000, 'circulating_supply': 18653700, 'total_supply': 18653700, 'platform': None, 'cmc_rank': 1, 'last_updated': '2021-03-14T15:08:02.000Z', 'quote': {'USD': {'price': 59973.27834390297, 'volume_24h': 48879135592.53536, 'percent_change_1h': -0.77483943, 'percent_change_24h': 0.20950884, 'percent_change_7d': 17.48379467, 'percent_change_30d': 25.67929757, 'percent_change_60d': 73.87785694, 'percent_change_90d': 213.48810208, 'market_cap': 1118723542243.6628, 'last_updated': '2021-03-14T15:08:02.000Z'}}}, {'id': 1027, 'name': 'Ethereum', 'symbol': 'ETH', 'slug': 'ethereum', 'num_market_pairs': 6199, 'date_added': '2015-08-07T00:00:00.000Z', 'tags': ['mineable', 'pow', 'smart-contracts', 'coinbase-ventures-portfolio', 'three-arrows-capital-portfolio', 'polychain-capital-portfolio'], 'max_supply': None, 'circulating_supply': 115047028.6865, 'total_supply': 115047028.6865, 'platform': {'id': 2502, 'name': 'Heco', 'symbol': 'HT', 'slug': 'huobi-token', 'token_address': '0x64ff637fb478863b7468bc97d30a5bf3a428a1fd'}, 'cmc_rank': 2, 'last_updated': '2021-03-14T15:08:02.000Z', 'quote': {'USD': {'price': 1861.8299738939245, 'volume_24h': 21300029241.019745, 'percent_change_1h': -0.99423018, 'percent_change_24h': -1.15053107, 'percent_change_7d': 11.36853876, 'percent_change_30d': 4.16412905, 'percent_change_60d': 74.96358948, 'percent_change_90d': 220.60675937, 'market_cap': 214198006415.95987, 'last_updated': '2021-03-14T15:08:02.000Z'}}}, {'id': 1839, 'name': 'Binance Coin', 'symbol': 'BNB', 'slug': 'binance-coin', 'num_market_pairs': 594, 'date_added': '2017-07-25T00:00:00.000Z', 'tags': ['marketplace', 'payments'], 'max_supply': 170532785, 'circulating_supply': 154532785, 'total_supply': 170532785, 'platform': None, 'cmc_rank': 3, 'last_updated': '2021-03-14T15:08:09.000Z', 'quote': {'USD': {'price': 267.6188935384125, 'volume_24h': 2230043189.6633472, 'percent_change_1h': -1.01247934, 'percent_change_24h': -3.45720363, 'percent_change_7d': 11.21799057, 'percent_change_30d': 101.04524221, 'percent_change_60d': 591.71438091, 'percent_change_90d': 816.99251209, 'market_cap': 41355892937.10939, 'last_updated': '2021-03-14T15:08:09.000Z'}}}, {'id': 825, 'name': 'Tether', 'symbol': 'USDT', 'slug': 'tether', 'num_market_pairs': 11421, 'date_added': '2015-02-25T00:00:00.000Z', 'tags': ['store-of-value', 'payments', 'stablecoin', 'stablecoin-asset-backed'], 'max_supply': None, 'circulating_supply': 38243573409.15945, 'total_supply': 39038167440.84519, 'platform': {'id': 1027, 'name': 'Ethereum', 'symbol': 'ETH', 'slug': 'ethereum', 'token_address': '0xdac17f958d2ee523a2206206994597c13d831ec7'}, 'cmc_rank': 4, 'last_updated': '2021-03-14T15:08:09.000Z', 'quote': {'USD': {'price': 0.99967637589887, 'volume_24h': 91603562905.49309, 'percent_change_1h': -0.04705713, 'percent_change_24h': -0.08812668, 'percent_change_7d': -0.0750668, 'percent_change_30d': -0.13016143, 'percent_change_60d': -0.05678779, 'percent_change_90d': -0.0103602, 'market_cap': 38231196867.09091, 'last_updated': '2021-03-14T15:08:09.000Z'}}}, {'id': 2010, 'name': 'Cardano', 'symbol': 'ADA', 'slug': 'cardano', 'num_market_pairs': 259, 'date_added': '2017-10-01T00:00:00.000Z', 'tags': ['mineable', 'dpos', 'pos', 'platform', 'research', 'smart-contracts', 'staking', 'binance-chain'], 'max_supply': 45000000000, 'circulating_supply': 31948309440.747814, 'total_supply': 45000000000, 'platform': None, 'cmc_rank': 5, 'last_updated': '2021-03-14T15:08:11.000Z', 'quote': {'USD': {'price': 1.06760569555468, 'volume_24h': 4060559060.8290787, 'percent_change_1h': -0.94375096, 'percent_change_24h': -5.94853926, 'percent_change_7d': -5.87885083, 'percent_change_30d': 14.28014466, 'percent_change_60d': 266.85043984, 'percent_change_90d': 608.6772877, 'market_cap': 34108197122.28572, 'last_updated': '2021-03-14T15:08:11.000Z'}}}]}\n"
     ]
    }
   ],
   "source": [
    "# Now, call the CoinMarketCap API and pull out a small sample of the data (only top 5 cryptos by marketcap) \n",
    "# to get a glimpse into the JSON structure that will be returned\n",
    "url = 'https://pro-api.coinmarketcap.com/v1/cryptocurrency/listings/latest'\n",
    "parameters = {\n",
    "  'start':'1',\n",
    "  'limit':'5',\n",
    "  'convert':'USD'\n",
    "}\n",
    "headers = {\n",
    "  'Accepts': 'application/json',\n",
    "  'X-CMC_PRO_API_KEY': API_KEY,\n",
    "}\n",
    "session = Session()\n",
    "session.headers.update(headers)\n",
    "try:\n",
    "  r = session.get(url, params=parameters)\n",
    "  data = json.loads(r.text)\n",
    "  print(data)\n",
    "except (ConnectionError, Timeout, TooManyRedirects) as e:\n",
    "  print(e)"
   ]
  },
  {
   "cell_type": "code",
   "execution_count": 4,
   "metadata": {},
   "outputs": [
    {
     "data": {
      "text/plain": [
       "{'status': {'timestamp': '2021-03-14T15:09:55.455Z',\n",
       "  'error_code': 0,\n",
       "  'error_message': None,\n",
       "  'elapsed': 16,\n",
       "  'credit_count': 1,\n",
       "  'notice': None,\n",
       "  'total_count': 4327},\n",
       " 'data': [{'id': 1,\n",
       "   'name': 'Bitcoin',\n",
       "   'symbol': 'BTC',\n",
       "   'slug': 'bitcoin',\n",
       "   'num_market_pairs': 9853,\n",
       "   'date_added': '2013-04-28T00:00:00.000Z',\n",
       "   'tags': ['mineable',\n",
       "    'pow',\n",
       "    'sha-256',\n",
       "    'store-of-value',\n",
       "    'state-channels',\n",
       "    'coinbase-ventures-portfolio',\n",
       "    'three-arrows-capital-portfolio',\n",
       "    'polychain-capital-portfolio'],\n",
       "   'max_supply': 21000000,\n",
       "   'circulating_supply': 18653700,\n",
       "   'total_supply': 18653700,\n",
       "   'platform': None,\n",
       "   'cmc_rank': 1,\n",
       "   'last_updated': '2021-03-14T15:08:02.000Z',\n",
       "   'quote': {'USD': {'price': 59973.27834390297,\n",
       "     'volume_24h': 48879135592.53536,\n",
       "     'percent_change_1h': -0.77483943,\n",
       "     'percent_change_24h': 0.20950884,\n",
       "     'percent_change_7d': 17.48379467,\n",
       "     'percent_change_30d': 25.67929757,\n",
       "     'percent_change_60d': 73.87785694,\n",
       "     'percent_change_90d': 213.48810208,\n",
       "     'market_cap': 1118723542243.6628,\n",
       "     'last_updated': '2021-03-14T15:08:02.000Z'}}},\n",
       "  {'id': 1027,\n",
       "   'name': 'Ethereum',\n",
       "   'symbol': 'ETH',\n",
       "   'slug': 'ethereum',\n",
       "   'num_market_pairs': 6199,\n",
       "   'date_added': '2015-08-07T00:00:00.000Z',\n",
       "   'tags': ['mineable',\n",
       "    'pow',\n",
       "    'smart-contracts',\n",
       "    'coinbase-ventures-portfolio',\n",
       "    'three-arrows-capital-portfolio',\n",
       "    'polychain-capital-portfolio'],\n",
       "   'max_supply': None,\n",
       "   'circulating_supply': 115047028.6865,\n",
       "   'total_supply': 115047028.6865,\n",
       "   'platform': {'id': 2502,\n",
       "    'name': 'Heco',\n",
       "    'symbol': 'HT',\n",
       "    'slug': 'huobi-token',\n",
       "    'token_address': '0x64ff637fb478863b7468bc97d30a5bf3a428a1fd'},\n",
       "   'cmc_rank': 2,\n",
       "   'last_updated': '2021-03-14T15:08:02.000Z',\n",
       "   'quote': {'USD': {'price': 1861.8299738939245,\n",
       "     'volume_24h': 21300029241.019745,\n",
       "     'percent_change_1h': -0.99423018,\n",
       "     'percent_change_24h': -1.15053107,\n",
       "     'percent_change_7d': 11.36853876,\n",
       "     'percent_change_30d': 4.16412905,\n",
       "     'percent_change_60d': 74.96358948,\n",
       "     'percent_change_90d': 220.60675937,\n",
       "     'market_cap': 214198006415.95987,\n",
       "     'last_updated': '2021-03-14T15:08:02.000Z'}}},\n",
       "  {'id': 1839,\n",
       "   'name': 'Binance Coin',\n",
       "   'symbol': 'BNB',\n",
       "   'slug': 'binance-coin',\n",
       "   'num_market_pairs': 594,\n",
       "   'date_added': '2017-07-25T00:00:00.000Z',\n",
       "   'tags': ['marketplace', 'payments'],\n",
       "   'max_supply': 170532785,\n",
       "   'circulating_supply': 154532785,\n",
       "   'total_supply': 170532785,\n",
       "   'platform': None,\n",
       "   'cmc_rank': 3,\n",
       "   'last_updated': '2021-03-14T15:08:09.000Z',\n",
       "   'quote': {'USD': {'price': 267.6188935384125,\n",
       "     'volume_24h': 2230043189.6633472,\n",
       "     'percent_change_1h': -1.01247934,\n",
       "     'percent_change_24h': -3.45720363,\n",
       "     'percent_change_7d': 11.21799057,\n",
       "     'percent_change_30d': 101.04524221,\n",
       "     'percent_change_60d': 591.71438091,\n",
       "     'percent_change_90d': 816.99251209,\n",
       "     'market_cap': 41355892937.10939,\n",
       "     'last_updated': '2021-03-14T15:08:09.000Z'}}},\n",
       "  {'id': 825,\n",
       "   'name': 'Tether',\n",
       "   'symbol': 'USDT',\n",
       "   'slug': 'tether',\n",
       "   'num_market_pairs': 11421,\n",
       "   'date_added': '2015-02-25T00:00:00.000Z',\n",
       "   'tags': ['store-of-value',\n",
       "    'payments',\n",
       "    'stablecoin',\n",
       "    'stablecoin-asset-backed'],\n",
       "   'max_supply': None,\n",
       "   'circulating_supply': 38243573409.15945,\n",
       "   'total_supply': 39038167440.84519,\n",
       "   'platform': {'id': 1027,\n",
       "    'name': 'Ethereum',\n",
       "    'symbol': 'ETH',\n",
       "    'slug': 'ethereum',\n",
       "    'token_address': '0xdac17f958d2ee523a2206206994597c13d831ec7'},\n",
       "   'cmc_rank': 4,\n",
       "   'last_updated': '2021-03-14T15:08:09.000Z',\n",
       "   'quote': {'USD': {'price': 0.99967637589887,\n",
       "     'volume_24h': 91603562905.49309,\n",
       "     'percent_change_1h': -0.04705713,\n",
       "     'percent_change_24h': -0.08812668,\n",
       "     'percent_change_7d': -0.0750668,\n",
       "     'percent_change_30d': -0.13016143,\n",
       "     'percent_change_60d': -0.05678779,\n",
       "     'percent_change_90d': -0.0103602,\n",
       "     'market_cap': 38231196867.09091,\n",
       "     'last_updated': '2021-03-14T15:08:09.000Z'}}},\n",
       "  {'id': 2010,\n",
       "   'name': 'Cardano',\n",
       "   'symbol': 'ADA',\n",
       "   'slug': 'cardano',\n",
       "   'num_market_pairs': 259,\n",
       "   'date_added': '2017-10-01T00:00:00.000Z',\n",
       "   'tags': ['mineable',\n",
       "    'dpos',\n",
       "    'pos',\n",
       "    'platform',\n",
       "    'research',\n",
       "    'smart-contracts',\n",
       "    'staking',\n",
       "    'binance-chain'],\n",
       "   'max_supply': 45000000000,\n",
       "   'circulating_supply': 31948309440.747814,\n",
       "   'total_supply': 45000000000,\n",
       "   'platform': None,\n",
       "   'cmc_rank': 5,\n",
       "   'last_updated': '2021-03-14T15:08:11.000Z',\n",
       "   'quote': {'USD': {'price': 1.06760569555468,\n",
       "     'volume_24h': 4060559060.8290787,\n",
       "     'percent_change_1h': -0.94375096,\n",
       "     'percent_change_24h': -5.94853926,\n",
       "     'percent_change_7d': -5.87885083,\n",
       "     'percent_change_30d': 14.28014466,\n",
       "     'percent_change_60d': 266.85043984,\n",
       "     'percent_change_90d': 608.6772877,\n",
       "     'market_cap': 34108197122.28572,\n",
       "     'last_updated': '2021-03-14T15:08:11.000Z'}}}]}"
      ]
     },
     "execution_count": 4,
     "metadata": {},
     "output_type": "execute_result"
    }
   ],
   "source": [
    "# Inspect the JSON structure of the object you created, and take note of how nested it is,\n",
    "# as well as the overall structure\n",
    "r.json()"
   ]
  },
  {
   "cell_type": "markdown",
   "metadata": {},
   "source": [
    "These are your tasks for this mini project:\n",
    "\n",
    "1. Collect data from CoinMarketCap for the top 50 cryptos by marketcap.\n",
    "2. Convert the returned JSON object into a Python dictionary.\n",
    "3. Print the current market cap of bitcoin.\n",
    "4. Calculate the sum of the top 50 crypto marketcaps.\n",
    "5. Choose an appropriate divisor, 10^12, for calculating the Cryptobucks 50 (CB50) index.\n",
    "6. What is the Cryptobucks 50 index?"
   ]
  },
  {
   "cell_type": "markdown",
   "metadata": {
    "collapsed": true
   },
   "source": [
    "**Task 1**"
   ]
  },
  {
   "cell_type": "code",
   "execution_count": 5,
   "metadata": {},
   "outputs": [
    {
     "name": "stdout",
     "output_type": "stream",
     "text": [
      "{'status': {'timestamp': '2021-03-14T15:09:55.866Z', 'error_code': 0, 'error_message': None, 'elapsed': 89, 'credit_count': 1, 'notice': None, 'total_count': 4327}, 'data': [{'id': 1, 'name': 'Bitcoin', 'symbol': 'BTC', 'slug': 'bitcoin', 'num_market_pairs': 9853, 'date_added': '2013-04-28T00:00:00.000Z', 'tags': ['mineable', 'pow', 'sha-256', 'store-of-value', 'state-channels', 'coinbase-ventures-portfolio', 'three-arrows-capital-portfolio', 'polychain-capital-portfolio'], 'max_supply': 21000000, 'circulating_supply': 18653700, 'total_supply': 18653700, 'platform': None, 'cmc_rank': 1, 'last_updated': '2021-03-14T15:08:02.000Z', 'quote': {'USD': {'price': 59973.27834390297, 'volume_24h': 48879135592.53536, 'percent_change_1h': -0.77483943, 'percent_change_24h': 0.20950884, 'percent_change_7d': 17.48379467, 'percent_change_30d': 25.67929757, 'percent_change_60d': 73.87785694, 'percent_change_90d': 213.48810208, 'market_cap': 1118723542243.6628, 'last_updated': '2021-03-14T15:08:02.000Z'}}}, {'id': 1027, 'name': 'Ethereum', 'symbol': 'ETH', 'slug': 'ethereum', 'num_market_pairs': 6199, 'date_added': '2015-08-07T00:00:00.000Z', 'tags': ['mineable', 'pow', 'smart-contracts', 'coinbase-ventures-portfolio', 'three-arrows-capital-portfolio', 'polychain-capital-portfolio'], 'max_supply': None, 'circulating_supply': 115047028.6865, 'total_supply': 115047028.6865, 'platform': {'id': 2502, 'name': 'Heco', 'symbol': 'HT', 'slug': 'huobi-token', 'token_address': '0x64ff637fb478863b7468bc97d30a5bf3a428a1fd'}, 'cmc_rank': 2, 'last_updated': '2021-03-14T15:08:02.000Z', 'quote': {'USD': {'price': 1861.8299738939245, 'volume_24h': 21300029241.019745, 'percent_change_1h': -0.99423018, 'percent_change_24h': -1.15053107, 'percent_change_7d': 11.36853876, 'percent_change_30d': 4.16412905, 'percent_change_60d': 74.96358948, 'percent_change_90d': 220.60675937, 'market_cap': 214198006415.95987, 'last_updated': '2021-03-14T15:08:02.000Z'}}}, {'id': 1839, 'name': 'Binance Coin', 'symbol': 'BNB', 'slug': 'binance-coin', 'num_market_pairs': 594, 'date_added': '2017-07-25T00:00:00.000Z', 'tags': ['marketplace', 'payments'], 'max_supply': 170532785, 'circulating_supply': 154532785, 'total_supply': 170532785, 'platform': None, 'cmc_rank': 3, 'last_updated': '2021-03-14T15:08:09.000Z', 'quote': {'USD': {'price': 267.6188935384125, 'volume_24h': 2230043189.6633472, 'percent_change_1h': -1.01247934, 'percent_change_24h': -3.45720363, 'percent_change_7d': 11.21799057, 'percent_change_30d': 101.04524221, 'percent_change_60d': 591.71438091, 'percent_change_90d': 816.99251209, 'market_cap': 41355892937.10939, 'last_updated': '2021-03-14T15:08:09.000Z'}}}, {'id': 825, 'name': 'Tether', 'symbol': 'USDT', 'slug': 'tether', 'num_market_pairs': 11421, 'date_added': '2015-02-25T00:00:00.000Z', 'tags': ['store-of-value', 'payments', 'stablecoin', 'stablecoin-asset-backed'], 'max_supply': None, 'circulating_supply': 38243573409.15945, 'total_supply': 39038167440.84519, 'platform': {'id': 1027, 'name': 'Ethereum', 'symbol': 'ETH', 'slug': 'ethereum', 'token_address': '0xdac17f958d2ee523a2206206994597c13d831ec7'}, 'cmc_rank': 4, 'last_updated': '2021-03-14T15:08:09.000Z', 'quote': {'USD': {'price': 0.99967637589887, 'volume_24h': 91603562905.49309, 'percent_change_1h': -0.04705713, 'percent_change_24h': -0.08812668, 'percent_change_7d': -0.0750668, 'percent_change_30d': -0.13016143, 'percent_change_60d': -0.05678779, 'percent_change_90d': -0.0103602, 'market_cap': 38231196867.09091, 'last_updated': '2021-03-14T15:08:09.000Z'}}}, {'id': 2010, 'name': 'Cardano', 'symbol': 'ADA', 'slug': 'cardano', 'num_market_pairs': 259, 'date_added': '2017-10-01T00:00:00.000Z', 'tags': ['mineable', 'dpos', 'pos', 'platform', 'research', 'smart-contracts', 'staking', 'binance-chain'], 'max_supply': 45000000000, 'circulating_supply': 31948309440.747814, 'total_supply': 45000000000, 'platform': None, 'cmc_rank': 5, 'last_updated': '2021-03-14T15:08:11.000Z', 'quote': {'USD': {'price': 1.06760569555468, 'volume_24h': 4060559060.8290787, 'percent_change_1h': -0.94375096, 'percent_change_24h': -5.94853926, 'percent_change_7d': -5.87885083, 'percent_change_30d': 14.28014466, 'percent_change_60d': 266.85043984, 'percent_change_90d': 608.6772877, 'market_cap': 34108197122.28572, 'last_updated': '2021-03-14T15:08:11.000Z'}}}, {'id': 6636, 'name': 'Polkadot', 'symbol': 'DOT', 'slug': 'polkadot-new', 'num_market_pairs': 168, 'date_added': '2020-08-19T00:00:00.000Z', 'tags': ['substrate', 'polkadot', 'binance-chain', 'dot-ecosystem', 'three-arrows-capital-portfolio', 'polychain-capital-portfolio'], 'max_supply': None, 'circulating_supply': 920180883.2809697, 'total_supply': 1056057907.2206402, 'platform': {'id': 2502, 'name': 'Heco', 'symbol': 'HT', 'slug': 'huobi-token', 'token_address': '0xa2c49cee16a5e5bdefde931107dc1fae9f7773e3'}, 'cmc_rank': 6, 'last_updated': '2021-03-14T15:09:06.000Z', 'quote': {'USD': {'price': 36.62384929987577, 'volume_24h': 1839652943.2828848, 'percent_change_1h': -0.84588522, 'percent_change_24h': -2.55381048, 'percent_change_7d': 4.65561841, 'percent_change_30d': 38.38743225, 'percent_change_60d': 289.17971581, 'percent_change_90d': 652.65656541, 'market_cap': 33700565997.908813, 'last_updated': '2021-03-14T15:09:06.000Z'}}}, {'id': 52, 'name': 'XRP', 'symbol': 'XRP', 'slug': 'xrp', 'num_market_pairs': 681, 'date_added': '2013-08-04T00:00:00.000Z', 'tags': ['medium-of-exchange', 'enterprise-solutions', 'binance-chain'], 'max_supply': 100000000000, 'circulating_supply': 45404028640, 'total_supply': 99990831162, 'platform': None, 'cmc_rank': 7, 'last_updated': '2021-03-14T15:09:03.000Z', 'quote': {'USD': {'price': 0.44695606778258, 'volume_24h': 2645284281.7886434, 'percent_change_1h': -0.47731074, 'percent_change_24h': -1.39671065, 'percent_change_7d': -4.38715584, 'percent_change_30d': -22.74275392, 'percent_change_60d': 49.17951454, 'percent_change_90d': -10.04449956, 'market_cap': 20293606102.422043, 'last_updated': '2021-03-14T15:09:03.000Z'}}}, {'id': 7083, 'name': 'Uniswap', 'symbol': 'UNI', 'slug': 'uniswap', 'num_market_pairs': 218, 'date_added': '2020-09-17T00:00:00.000Z', 'tags': ['defi', 'dao', 'amm', 'coinbase-ventures-portfolio', 'three-arrows-capital-portfolio'], 'max_supply': 1000000000, 'circulating_supply': 521729522.83654976, 'total_supply': 1000000000, 'platform': {'id': 1027, 'name': 'Ethereum', 'symbol': 'ETH', 'slug': 'ethereum', 'token_address': '0x1f9840a85d5af5bf1d1762f925bdaddc4201f984'}, 'cmc_rank': 8, 'last_updated': '2021-03-14T15:08:09.000Z', 'quote': {'USD': {'price': 31.58751483600361, 'volume_24h': 570531485.6120564, 'percent_change_1h': -2.22900047, 'percent_change_24h': -3.45970494, 'percent_change_7d': 0.29901016, 'percent_change_30d': 41.36444549, 'percent_change_60d': 442.77549781, 'percent_change_90d': 862.63127911, 'market_cap': 16480139042.9806, 'last_updated': '2021-03-14T15:08:09.000Z'}}}, {'id': 2, 'name': 'Litecoin', 'symbol': 'LTC', 'slug': 'litecoin', 'num_market_pairs': 767, 'date_added': '2013-04-28T00:00:00.000Z', 'tags': ['mineable', 'pow', 'scrypt', 'medium-of-exchange', 'binance-chain'], 'max_supply': 84000000, 'circulating_supply': 66651489.51538747, 'total_supply': 66651489.51538747, 'platform': {'id': 2502, 'name': 'Heco', 'symbol': 'HT', 'slug': 'huobi-token', 'token_address': '0xecb56cf772b5c9a6907fb7d32387da2fcbfb63b4'}, 'cmc_rank': 9, 'last_updated': '2021-03-14T15:09:02.000Z', 'quote': {'USD': {'price': 218.7562061839664, 'volume_24h': 5290203742.530484, 'percent_change_1h': -0.64251624, 'percent_change_24h': -2.57184812, 'percent_change_7d': 15.43804702, 'percent_change_30d': 17.10004177, 'percent_change_60d': 58.86348571, 'percent_change_90d': 173.77746751, 'market_cap': 14580426982.896576, 'last_updated': '2021-03-14T15:09:02.000Z'}}}, {'id': 1975, 'name': 'Chainlink', 'symbol': 'LINK', 'slug': 'chainlink', 'num_market_pairs': 492, 'date_added': '2017-09-20T00:00:00.000Z', 'tags': ['platform', 'defi', 'oracles', 'smart-contracts', 'substrate', 'polkadot', 'dot-ecosystem'], 'max_supply': 1000000000, 'circulating_supply': 413009556.43444455, 'total_supply': 1000000000, 'platform': {'id': 1027, 'name': 'Ethereum', 'symbol': 'ETH', 'slug': 'ethereum', 'token_address': '0x514910771af9ca656af840dff83e8264ecf986ca'}, 'cmc_rank': 10, 'last_updated': '2021-03-14T15:08:09.000Z', 'quote': {'USD': {'price': 28.98097405228644, 'volume_24h': 1166725596.9463496, 'percent_change_1h': -0.46921716, 'percent_change_24h': -3.33601793, 'percent_change_7d': 2.90729663, 'percent_change_30d': 2.88437025, 'percent_change_60d': 91.26290847, 'percent_change_90d': 131.54886206, 'market_cap': 11969419238.37297, 'last_updated': '2021-03-14T15:08:09.000Z'}}}, {'id': 1831, 'name': 'Bitcoin Cash', 'symbol': 'BCH', 'slug': 'bitcoin-cash', 'num_market_pairs': 595, 'date_added': '2017-07-23T00:00:00.000Z', 'tags': ['mineable', 'marketplace', 'enterprise-solutions', 'binance-chain'], 'max_supply': 21000000, 'circulating_supply': 18679612.5, 'total_supply': 18679612.5, 'platform': {'id': 2502, 'name': 'Heco', 'symbol': 'HT', 'slug': 'huobi-token', 'token_address': '0xef3cebd77e0c52cb6f60875d9306397b5caca375'}, 'cmc_rank': 11, 'last_updated': '2021-03-14T15:08:08.000Z', 'quote': {'USD': {'price': 573.6265609170706, 'volume_24h': 4223635845.3883705, 'percent_change_1h': -0.53756238, 'percent_change_24h': -0.81961524, 'percent_change_7d': 12.01474896, 'percent_change_30d': 4.90652806, 'percent_change_60d': 20.01221237, 'percent_change_90d': 112.83888423, 'market_cap': 10715121877.638523, 'last_updated': '2021-03-14T15:08:08.000Z'}}}, {'id': 3408, 'name': 'USD Coin', 'symbol': 'USDC', 'slug': 'usd-coin', 'num_market_pairs': 827, 'date_added': '2018-10-08T00:00:00.000Z', 'tags': ['medium-of-exchange', 'stablecoin', 'stablecoin-asset-backed'], 'max_supply': None, 'circulating_supply': 9259370924.791277, 'total_supply': 9441230365.36955, 'platform': {'id': 1027, 'name': 'Ethereum', 'symbol': 'ETH', 'slug': 'ethereum', 'token_address': '0xa0b86991c6218b36c1d19d4a2e9eb0ce3606eb48'}, 'cmc_rank': 12, 'last_updated': '2021-03-14T15:09:05.000Z', 'quote': {'USD': {'price': 0.99988618440451, 'volume_24h': 1890902604.9263608, 'percent_change_1h': -0.01356339, 'percent_change_24h': -0.03097537, 'percent_change_7d': -0.0236635, 'percent_change_30d': -0.01489511, 'percent_change_60d': -0.14698837, 'percent_change_90d': -0.02644755, 'market_cap': 9258317063.975609, 'last_updated': '2021-03-14T15:09:05.000Z'}}}, {'id': 512, 'name': 'Stellar', 'symbol': 'XLM', 'slug': 'stellar', 'num_market_pairs': 346, 'date_added': '2014-08-05T00:00:00.000Z', 'tags': ['medium-of-exchange', 'enterprise-solutions', 'decentralized-exchange', 'smart-contracts'], 'max_supply': 50001806812, 'circulating_supply': 22609025938.72445, 'total_supply': 50001803444.79788, 'platform': None, 'cmc_rank': 13, 'last_updated': '2021-03-14T15:09:06.000Z', 'quote': {'USD': {'price': 0.39396244867115, 'volume_24h': 845235781.3499595, 'percent_change_1h': -0.18411389, 'percent_change_24h': -2.36505549, 'percent_change_7d': -5.71827869, 'percent_change_30d': -15.76780609, 'percent_change_60d': 34.41982854, 'percent_change_90d': 132.21960385, 'market_cap': 8907107220.88943, 'last_updated': '2021-03-14T15:09:06.000Z'}}}, {'id': 3717, 'name': 'Wrapped Bitcoin', 'symbol': 'WBTC', 'slug': 'wrapped-bitcoin', 'num_market_pairs': 116, 'date_added': '2019-01-30T00:00:00.000Z', 'tags': ['medium-of-exchange', 'defi', 'stablecoin', 'stablecoin-asset-backed'], 'max_supply': None, 'circulating_supply': 133695.33064375, 'total_supply': 133695.33064375, 'platform': {'id': 1027, 'name': 'Ethereum', 'symbol': 'ETH', 'slug': 'ethereum', 'token_address': '0x2260fac5e5542a773aa44fbcfedf7c193bc2c599'}, 'cmc_rank': 14, 'last_updated': '2021-03-14T15:08:07.000Z', 'quote': {'USD': {'price': 59992.80116847232, 'volume_24h': 112934815.93323334, 'percent_change_1h': -0.60413397, 'percent_change_24h': 0.27307427, 'percent_change_7d': 17.87043524, 'percent_change_30d': 25.53478872, 'percent_change_60d': 74.37059955, 'percent_change_90d': 213.59017161, 'market_cap': 8020757388.463657, 'last_updated': '2021-03-14T15:08:07.000Z'}}}, {'id': 74, 'name': 'Dogecoin', 'symbol': 'DOGE', 'slug': 'dogecoin', 'num_market_pairs': 332, 'date_added': '2013-12-15T00:00:00.000Z', 'tags': ['mineable', 'pow', 'scrypt', 'medium-of-exchange', 'memes', 'payments'], 'max_supply': None, 'circulating_supply': 128756977746.04012, 'total_supply': 128756977746.04012, 'platform': {'id': 1839, 'name': 'Binance Smart Chain', 'symbol': 'BNB', 'slug': 'binance-coin', 'token_address': '0xba2ae424d960c26247dd6c32edc70b295c744c43'}, 'cmc_rank': 15, 'last_updated': '2021-03-14T15:09:03.000Z', 'quote': {'USD': {'price': 0.06059683184919, 'volume_24h': 3159104554.8537145, 'percent_change_1h': 0.05749094, 'percent_change_24h': 6.7284169, 'percent_change_7d': 17.64017298, 'percent_change_30d': -12.18954199, 'percent_change_60d': 643.65460777, 'percent_change_90d': 1786.03660375, 'market_cap': 7802264929.886692, 'last_updated': '2021-03-14T15:09:03.000Z'}}}, {'id': 2416, 'name': 'THETA', 'symbol': 'THETA', 'slug': 'theta', 'num_market_pairs': 52, 'date_added': '2018-01-17T00:00:00.000Z', 'tags': ['media', 'collectibles-nfts', 'content-creation', 'video'], 'max_supply': 1000000000, 'circulating_supply': 1000000000, 'total_supply': 1000000000, 'platform': None, 'cmc_rank': 16, 'last_updated': '2021-03-14T15:09:05.000Z', 'quote': {'USD': {'price': 7.60200891769217, 'volume_24h': 620235938.8037809, 'percent_change_1h': 4.58306549, 'percent_change_24h': 15.08270978, 'percent_change_7d': 74.11528536, 'percent_change_30d': 154.9007567, 'percent_change_60d': 269.13303113, 'percent_change_90d': 899.30971756, 'market_cap': 7602008917.69217, 'last_updated': '2021-03-14T15:09:05.000Z'}}}, {'id': 4172, 'name': 'Terra', 'symbol': 'LUNA', 'slug': 'terra-luna', 'num_market_pairs': 44, 'date_added': '2019-07-26T00:00:00.000Z', 'tags': ['store-of-value', 'defi', 'payments', 'stablecoin-algorithmically-stabilized'], 'max_supply': None, 'circulating_supply': 403961733.45131856, 'total_supply': 945009096.873811, 'platform': None, 'cmc_rank': 17, 'last_updated': '2021-03-14T15:09:03.000Z', 'quote': {'USD': {'price': 15.8753772462696, 'volume_24h': 772873838.9612441, 'percent_change_1h': -3.6207882, 'percent_change_24h': 22.41673642, 'percent_change_7d': 97.85040211, 'percent_change_30d': 165.73685313, 'percent_change_60d': 1841.8383577, 'percent_change_90d': 3255.27103515, 'market_cap': 6413044911.596688, 'last_updated': '2021-03-14T15:09:03.000Z'}}}, {'id': 7278, 'name': 'Aave', 'symbol': 'AAVE', 'slug': 'aave', 'num_market_pairs': 171, 'date_added': '2020-10-02T00:00:00.000Z', 'tags': ['defi', 'dao', 'yield-farming', 'three-arrows-capital-portfolio'], 'max_supply': 16000000, 'circulating_supply': 12436725.26782161, 'total_supply': 16000000, 'platform': {'id': 1027, 'name': 'Ethereum', 'symbol': 'ETH', 'slug': 'ethereum', 'token_address': '0x7Fc66500c84A76Ad7e9c93437bFc5Ac33E2DDaE9'}, 'cmc_rank': 18, 'last_updated': '2021-03-14T15:09:03.000Z', 'quote': {'USD': {'price': 383.283751208403, 'volume_24h': 475770336.92526555, 'percent_change_1h': -0.87063789, 'percent_change_24h': -1.56555452, 'percent_change_7d': -5.2260015, 'percent_change_30d': -25.8470402, 'percent_change_60d': 176.61463332, 'percent_change_90d': 374.11208135, 'market_cap': 4766794713.398996, 'last_updated': '2021-03-14T15:09:03.000Z'}}}, {'id': 3635, 'name': 'Crypto.com Coin', 'symbol': 'CRO', 'slug': 'crypto-com-coin', 'num_market_pairs': 112, 'date_added': '2018-12-14T00:00:00.000Z', 'tags': ['medium-of-exchange', 'mobile', 'payments'], 'max_supply': 40400000000, 'circulating_supply': 24143835615.10503, 'total_supply': 100000000000, 'platform': {'id': 1027, 'name': 'Ethereum', 'symbol': 'ETH', 'slug': 'ethereum', 'token_address': '0xa0b73e1ff0b80914ab6fe0444e65848c4c34450b'}, 'cmc_rank': 19, 'last_updated': '2021-03-14T15:08:07.000Z', 'quote': {'USD': {'price': 0.18466689618957, 'volume_24h': 102970405.37702906, 'percent_change_1h': -0.59176501, 'percent_change_24h': -4.50377465, 'percent_change_7d': 15.89417953, 'percent_change_30d': 117.93726295, 'percent_change_60d': 175.01201545, 'percent_change_90d': 204.35786968, 'market_cap': 4458567185.152643, 'last_updated': '2021-03-14T15:08:07.000Z'}}}, {'id': 3077, 'name': 'VeChain', 'symbol': 'VET', 'slug': 'vechain', 'num_market_pairs': 124, 'date_added': '2017-08-22T00:00:00.000Z', 'tags': ['logistics', 'data-provenance', 'smart-contracts'], 'max_supply': 86712634466, 'circulating_supply': 64315576989, 'total_supply': 86712634466, 'platform': None, 'cmc_rank': 20, 'last_updated': '2021-03-14T15:09:02.000Z', 'quote': {'USD': {'price': 0.06546832399833, 'volume_24h': 619512485.8038146, 'percent_change_1h': -0.84368238, 'percent_change_24h': -3.7550161, 'percent_change_7d': 11.3690505, 'percent_change_30d': 42.8332079, 'percent_change_60d': 169.46288606, 'percent_change_90d': 302.49814091, 'market_cap': 4210633032.455389, 'last_updated': '2021-03-14T15:09:02.000Z'}}}, {'id': 328, 'name': 'Monero', 'symbol': 'XMR', 'slug': 'monero', 'num_market_pairs': 184, 'date_added': '2014-05-21T00:00:00.000Z', 'tags': ['mineable', 'pow', 'medium-of-exchange', 'ringct'], 'max_supply': None, 'circulating_supply': 17862324.58110473, 'total_supply': 17862324.58110473, 'platform': None, 'cmc_rank': 21, 'last_updated': '2021-03-14T15:09:04.000Z', 'quote': {'USD': {'price': 231.1585017047226, 'volume_24h': 563012961.2265007, 'percent_change_1h': -1.26847754, 'percent_change_24h': 0.27202252, 'percent_change_7d': 11.11271265, 'percent_change_30d': 16.31096725, 'percent_change_60d': 41.34910969, 'percent_change_90d': 49.86889839, 'market_cap': 4129028187.131606, 'last_updated': '2021-03-14T15:09:04.000Z'}}}, {'id': 3794, 'name': 'Cosmos', 'symbol': 'ATOM', 'slug': 'cosmos', 'num_market_pairs': 168, 'date_added': '2019-03-14T00:00:00.000Z', 'tags': ['platform', 'content-creation', 'interoperability', 'binance-chain', 'polychain-capital-portfolio'], 'max_supply': None, 'circulating_supply': 211805714.904383, 'total_supply': 269590317.904383, 'platform': None, 'cmc_rank': 22, 'last_updated': '2021-03-14T15:08:09.000Z', 'quote': {'USD': {'price': 18.58582238799967, 'volume_24h': 402672107.60967886, 'percent_change_1h': -1.2552311, 'percent_change_24h': -3.34291565, 'percent_change_7d': -3.28766864, 'percent_change_30d': -10.67233623, 'percent_change_60d': 212.96080281, 'percent_change_90d': 263.52751645, 'market_cap': 3936583397.976157, 'last_updated': '2021-03-14T15:08:09.000Z'}}}, {'id': 4195, 'name': 'FTX Token', 'symbol': 'FTT', 'slug': 'ftx-token', 'num_market_pairs': 38, 'date_added': '2019-07-31T00:00:00.000Z', 'tags': ['marketplace', 'derivatives'], 'max_supply': None, 'circulating_supply': 94346957.5237492, 'total_supply': 345219293.59097695, 'platform': {'id': 1839, 'name': 'Binance Chain', 'symbol': 'BNB', 'slug': 'binance-coin', 'token_address': 'FTT-F11'}, 'cmc_rank': 23, 'last_updated': '2021-03-14T15:09:03.000Z', 'quote': {'USD': {'price': 41.28988088586787, 'volume_24h': 84677816.78220233, 'percent_change_1h': -0.85618834, 'percent_change_24h': 4.41081074, 'percent_change_7d': 34.43726887, 'percent_change_30d': 97.21103403, 'percent_change_60d': 388.30921136, 'percent_change_90d': 820.25513664, 'market_cap': 3895574638.0996404, 'last_updated': '2021-03-14T15:09:03.000Z'}}}, {'id': 5426, 'name': 'Solana', 'symbol': 'SOL', 'slug': 'solana', 'num_market_pairs': 38, 'date_added': '2020-04-10T00:00:00.000Z', 'tags': ['dpos', 'platform'], 'max_supply': 488630611, 'circulating_supply': 267138887.99964628, 'total_supply': 490712330.3719867, 'platform': None, 'cmc_rank': 24, 'last_updated': '2021-03-14T15:09:04.000Z', 'quote': {'USD': {'price': 14.52266070729283, 'volume_24h': 102136063.06500204, 'percent_change_1h': -0.48638705, 'percent_change_24h': -3.83337273, 'percent_change_7d': 5.36002466, 'percent_change_30d': 51.56510577, 'percent_change_60d': 326.38252392, 'percent_change_90d': 836.36143668, 'market_cap': 3879567432.142363, 'last_updated': '2021-03-14T15:09:04.000Z'}}}, {'id': 5805, 'name': 'Avalanche', 'symbol': 'AVAX', 'slug': 'avalanche', 'num_market_pairs': 53, 'date_added': '2020-07-13T00:00:00.000Z', 'tags': ['defi', 'polychain-capital-portfolio'], 'max_supply': 720000000, 'circulating_supply': 127686321.68018448, 'total_supply': 381852356.6801845, 'platform': None, 'cmc_rank': 25, 'last_updated': '2021-03-14T15:08:07.000Z', 'quote': {'USD': {'price': 30.29742089885413, 'volume_24h': 515785535.7105523, 'percent_change_1h': -1.84957942, 'percent_change_24h': 3.75292612, 'percent_change_7d': 9.87298784, 'percent_change_30d': -38.0486263, 'percent_change_60d': 286.17149293, 'percent_change_90d': 829.55191547, 'market_cap': 3868566230.9710326, 'last_updated': '2021-03-14T15:08:07.000Z'}}}, {'id': 1765, 'name': 'EOS', 'symbol': 'EOS', 'slug': 'eos', 'num_market_pairs': 490, 'date_added': '2017-07-01T00:00:00.000Z', 'tags': ['medium-of-exchange', 'enterprise-solutions', 'smart-contracts', 'binance-chain'], 'max_supply': None, 'circulating_supply': 951323815.0155, 'total_supply': 1027824227.5322, 'platform': None, 'cmc_rank': 26, 'last_updated': '2021-03-14T15:08:09.000Z', 'quote': {'USD': {'price': 4.05497568688296, 'volume_24h': 2930085381.9140077, 'percent_change_1h': -0.88143798, 'percent_change_24h': 1.78130232, 'percent_change_7d': 6.84475852, 'percent_change_30d': -12.55512502, 'percent_change_60d': 51.33905183, 'percent_change_90d': 43.42873173, 'market_cap': 3857594940.240595, 'last_updated': '2021-03-14T15:08:09.000Z'}}}, {'id': 3602, 'name': 'Bitcoin SV', 'symbol': 'BSV', 'slug': 'bitcoin-sv', 'num_market_pairs': 216, 'date_added': '2018-11-09T00:00:00.000Z', 'tags': ['mineable', 'pow', 'sha-256', 'medium-of-exchange', 'store-of-value', 'state-channels'], 'max_supply': 21000000, 'circulating_supply': 18677514.14423905, 'total_supply': 18677514.14423905, 'platform': None, 'cmc_rank': 27, 'last_updated': '2021-03-14T15:08:07.000Z', 'quote': {'USD': {'price': 203.9037264673079, 'volume_24h': 1579489538.943892, 'percent_change_1h': -0.37218211, 'percent_change_24h': -2.89006065, 'percent_change_7d': 10.34405171, 'percent_change_30d': -9.55261816, 'percent_change_60d': 0.52297115, 'percent_change_90d': 23.34776803, 'market_cap': 3808414735.1561937, 'last_updated': '2021-03-14T15:08:07.000Z'}}}, {'id': 4066, 'name': 'Chiliz', 'symbol': 'CHZ', 'slug': 'chiliz', 'num_market_pairs': 96, 'date_added': '2019-07-01T00:00:00.000Z', 'tags': ['sports', 'content-creation', 'payments'], 'max_supply': 8888888888, 'circulating_supply': 5547664721.146096, 'total_supply': 8888888888, 'platform': {'id': 1027, 'name': 'Ethereum', 'symbol': 'ETH', 'slug': 'ethereum', 'token_address': '0x3506424f91fd33084466f402d5d97f05f8e3b4af'}, 'cmc_rank': 28, 'last_updated': '2021-03-14T15:08:10.000Z', 'quote': {'USD': {'price': 0.67888781781414, 'volume_24h': 5258156346.615369, 'percent_change_1h': -3.73981442, 'percent_change_24h': -7.45240682, 'percent_change_7d': 408.2034855, 'percent_change_30d': 2068.9711527, 'percent_change_60d': 3637.05965009, 'percent_change_90d': 4732.67510929, 'market_cap': 3766241996.5033627, 'last_updated': '2021-03-14T15:08:10.000Z'}}}, {'id': 1720, 'name': 'IOTA', 'symbol': 'MIOTA', 'slug': 'iota', 'num_market_pairs': 71, 'date_added': '2017-06-13T00:00:00.000Z', 'tags': ['dag', 'medium-of-exchange', 'iot', 'sharing-economy'], 'max_supply': 2779530283, 'circulating_supply': 2779530283, 'total_supply': 2779530283, 'platform': None, 'cmc_rank': 29, 'last_updated': '2021-03-14T15:08:07.000Z', 'quote': {'USD': {'price': 1.34411327928225, 'volume_24h': 78261420.96899466, 'percent_change_1h': 0.46124522, 'percent_change_24h': -1.29448223, 'percent_change_7d': 1.64309529, 'percent_change_30d': 13.26114719, 'percent_change_60d': 239.48622316, 'percent_change_90d': 357.42834767, 'market_cap': 3736003563.5474505, 'last_updated': '2021-03-14T15:08:07.000Z'}}}, {'id': 1958, 'name': 'TRON', 'symbol': 'TRX', 'slug': 'tron', 'num_market_pairs': 511, 'date_added': '2017-09-13T00:00:00.000Z', 'tags': ['media', 'payments'], 'max_supply': None, 'circulating_supply': 71659657369.49, 'total_supply': 100850743811.66246, 'platform': None, 'cmc_rank': 30, 'last_updated': '2021-03-14T15:08:10.000Z', 'quote': {'USD': {'price': 0.05157502019956, 'volume_24h': 1704407548.635181, 'percent_change_1h': -0.23354362, 'percent_change_24h': -0.85906936, 'percent_change_7d': 0.25554184, 'percent_change_30d': -6.89118712, 'percent_change_60d': 76.03073778, 'percent_change_90d': 79.49982141, 'market_cap': 3695848276.3249955, 'last_updated': '2021-03-14T15:08:10.000Z'}}}, {'id': 873, 'name': 'NEM', 'symbol': 'XEM', 'slug': 'nem', 'num_market_pairs': 105, 'date_added': '2015-04-01T00:00:00.000Z', 'tags': ['poi', 'medium-of-exchange', 'payments', 'smart-contracts'], 'max_supply': 8999999999, 'circulating_supply': 8999999999, 'total_supply': 8999999999, 'platform': None, 'cmc_rank': 31, 'last_updated': '2021-03-14T15:08:09.000Z', 'quote': {'USD': {'price': 0.35376612463293, 'volume_24h': 415940455.9900366, 'percent_change_1h': -0.16872195, 'percent_change_24h': -6.73610063, 'percent_change_7d': -52.13811717, 'percent_change_30d': -11.42425118, 'percent_change_60d': 64.07184651, 'percent_change_90d': 48.11323927, 'market_cap': 3183895121.3426037, 'last_updated': '2021-03-14T15:08:09.000Z'}}}, {'id': 4687, 'name': 'Binance USD', 'symbol': 'BUSD', 'slug': 'binance-usd', 'num_market_pairs': 490, 'date_added': '2019-09-20T00:00:00.000Z', 'tags': ['store-of-value', 'stablecoin', 'stablecoin-asset-backed', 'binance-chain'], 'max_supply': None, 'circulating_supply': 3166503242.33, 'total_supply': 3166503242.33, 'platform': {'id': 1839, 'name': 'Binance Chain', 'symbol': 'BNB', 'slug': 'binance-coin', 'token_address': 'BUSD-BD1'}, 'cmc_rank': 32, 'last_updated': '2021-03-14T15:08:07.000Z', 'quote': {'USD': {'price': 1, 'volume_24h': 3760416873.2279897, 'percent_change_1h': 0, 'percent_change_24h': 0.020004, 'percent_change_7d': -0.009999, 'percent_change_30d': 0, 'percent_change_60d': 0.010001, 'percent_change_90d': 0.010001, 'market_cap': 3166503242.33, 'last_updated': '2021-03-14T15:08:07.000Z'}}}, {'id': 2280, 'name': 'Filecoin', 'symbol': 'FIL', 'slug': 'filecoin', 'num_market_pairs': 111, 'date_added': '2017-12-13T00:00:00.000Z', 'tags': ['mineable', 'distributed-computing', 'filesharing', 'ipfs', 'polychain-capital-portfolio'], 'max_supply': 2000000000, 'circulating_supply': 57415312, 'total_supply': 57415312, 'platform': {'id': 2502, 'name': 'Heco', 'symbol': 'HT', 'slug': 'huobi-token', 'token_address': '0xae3a768f9ab104c69a7cd6041fe16ffa235d1810'}, 'cmc_rank': 33, 'last_updated': '2021-03-14T15:09:04.000Z', 'quote': {'USD': {'price': 53.27893400195846, 'volume_24h': 2339183883.4567876, 'percent_change_1h': -0.95490081, 'percent_change_24h': 11.56655826, 'percent_change_7d': 28.66633133, 'percent_change_30d': 22.15451713, 'percent_change_60d': 146.7199972, 'percent_change_90d': 77.74727822, 'market_cap': 3059026618.7498536, 'last_updated': '2021-03-14T15:09:04.000Z'}}}, {'id': 2011, 'name': 'Tezos', 'symbol': 'XTZ', 'slug': 'tezos', 'num_market_pairs': 159, 'date_added': '2017-10-06T00:00:00.000Z', 'tags': ['platform', 'enterprise-solutions', 'smart-contracts', 'binance-chain', 'polychain-capital-portfolio'], 'max_supply': None, 'circulating_supply': 763057816.024967, 'total_supply': 763057816.024967, 'platform': None, 'cmc_rank': 34, 'last_updated': '2021-03-14T15:08:09.000Z', 'quote': {'USD': {'price': 4.0036403623278, 'volume_24h': 328838189.50246805, 'percent_change_1h': -0.56951108, 'percent_change_24h': -4.81354167, 'percent_change_7d': 1.91854549, 'percent_change_30d': -12.26820451, 'percent_change_60d': 67.35552706, 'percent_change_90d': 82.49376428, 'market_cap': 3055009071.0272584, 'last_updated': '2021-03-14T15:08:09.000Z'}}}, {'id': 4030, 'name': 'Algorand', 'symbol': 'ALGO', 'slug': 'algorand', 'num_market_pairs': 137, 'date_added': '2019-06-20T00:00:00.000Z', 'tags': ['pos', 'platform', 'research', 'smart-contracts'], 'max_supply': 10000000000, 'circulating_supply': 2582360846.879767, 'total_supply': 4877181423.572052, 'platform': None, 'cmc_rank': 35, 'last_updated': '2021-03-14T15:08:11.000Z', 'quote': {'USD': {'price': 1.14870302460152, 'volume_24h': 445043453.1360564, 'percent_change_1h': -0.10124094, 'percent_change_24h': 3.04864452, 'percent_change_7d': 1.04225317, 'percent_change_30d': -23.31623731, 'percent_change_60d': 169.41985758, 'percent_change_90d': 272.3376617, 'market_cap': 2966365715.423331, 'last_updated': '2021-03-14T15:08:11.000Z'}}}, {'id': 1376, 'name': 'Neo', 'symbol': 'NEO', 'slug': 'neo', 'num_market_pairs': 275, 'date_added': '2016-09-08T00:00:00.000Z', 'tags': ['platform', 'enterprise-solutions', 'smart-contracts'], 'max_supply': 100000000, 'circulating_supply': 70538831, 'total_supply': 100000000, 'platform': None, 'cmc_rank': 36, 'last_updated': '2021-03-14T15:09:05.000Z', 'quote': {'USD': {'price': 39.99402784665613, 'volume_24h': 725003301.9304376, 'percent_change_1h': -1.02402301, 'percent_change_24h': -3.86230528, 'percent_change_7d': 2.10587708, 'percent_change_30d': 8.47367003, 'percent_change_60d': 81.34732826, 'percent_change_90d': 133.71856049, 'market_cap': 2821131971.2845707, 'last_updated': '2021-03-14T15:09:05.000Z'}}}, {'id': 2502, 'name': 'Huobi Token', 'symbol': 'HT', 'slug': 'huobi-token', 'num_market_pairs': 178, 'date_added': '2018-02-03T00:00:00.000Z', 'tags': ['marketplace', 'discount-token', 'payments'], 'max_supply': 500000000, 'circulating_supply': 186866518.25441208, 'total_supply': 500000000, 'platform': {'id': 1027, 'name': 'Ethereum', 'symbol': 'ETH', 'slug': 'ethereum', 'token_address': '0x6f259637dcd74c767781e37bc6133cd6a68aa161'}, 'cmc_rank': 37, 'last_updated': '2021-03-14T15:09:05.000Z', 'quote': {'USD': {'price': 14.92201099068733, 'volume_24h': 739950297.1730716, 'percent_change_1h': 0.06832198, 'percent_change_24h': -2.44117711, 'percent_change_7d': -2.36622671, 'percent_change_30d': 14.06504522, 'percent_change_60d': 210.61733058, 'percent_change_90d': 280.9786505, 'market_cap': 2788424239.1838117, 'last_updated': '2021-03-14T15:09:05.000Z'}}}, {'id': 4943, 'name': 'Dai', 'symbol': 'DAI', 'slug': 'multi-collateral-dai', 'num_market_pairs': 411, 'date_added': '2019-11-22T00:00:00.000Z', 'tags': ['defi', 'stablecoin'], 'max_supply': None, 'circulating_supply': 2744229802.3996053, 'total_supply': 2744229828.2197504, 'platform': {'id': 1027, 'name': 'Ethereum', 'symbol': 'ETH', 'slug': 'ethereum', 'token_address': '0x6b175474e89094c44da98b954eedeac495271d0f'}, 'cmc_rank': 38, 'last_updated': '2021-03-14T15:08:09.000Z', 'quote': {'USD': {'price': 1.00159463153488, 'volume_24h': 258195044.61960596, 'percent_change_1h': -0.03323912, 'percent_change_24h': -0.04938479, 'percent_change_7d': 0.07959889, 'percent_change_30d': 0.07659586, 'percent_change_60d': 0.04485484, 'percent_change_90d': 0.05364492, 'market_cap': 2748605837.7814693, 'last_updated': '2021-03-14T15:08:09.000Z'}}}, {'id': 4642, 'name': 'Hedera Hashgraph', 'symbol': 'HBAR', 'slug': 'hedera-hashgraph', 'num_market_pairs': 47, 'date_added': '2019-09-17T00:00:00.000Z', 'tags': ['dag', 'marketplace', 'enterprise-solutions', 'payments'], 'max_supply': None, 'circulating_supply': 7533752329, 'total_supply': 50000000000, 'platform': None, 'cmc_rank': 39, 'last_updated': '2021-03-14T15:08:07.000Z', 'quote': {'USD': {'price': 0.35316328513434, 'volume_24h': 895935435.1948459, 'percent_change_1h': 1.26855893, 'percent_change_24h': 34.14441403, 'percent_change_7d': 132.26308148, 'percent_change_30d': 163.22749018, 'percent_change_60d': 585.72608633, 'percent_change_90d': 923.95575329, 'market_cap': 2660644721.8981247, 'last_updated': '2021-03-14T15:08:07.000Z'}}}, {'id': 6758, 'name': 'SushiSwap', 'symbol': 'SUSHI', 'slug': 'sushiswap', 'num_market_pairs': 168, 'date_added': '2020-08-28T00:00:00.000Z', 'tags': ['defi', 'memes', 'dao', 'yield-farming', 'amm', 'yearn-partnerships'], 'max_supply': 250000000, 'circulating_supply': 127244443, 'total_supply': 205690598.2382976, 'platform': {'id': 1027, 'name': 'Ethereum', 'symbol': 'ETH', 'slug': 'ethereum', 'token_address': '0x6b3595068778dd592e39a122f4f5a5cf09c90fe2'}, 'cmc_rank': 40, 'last_updated': '2021-03-14T15:08:08.000Z', 'quote': {'USD': {'price': 20.7487778389351, 'volume_24h': 764994765.4631671, 'percent_change_1h': -2.53073253, 'percent_change_24h': -7.26528709, 'percent_change_7d': 19.98188624, 'percent_change_30d': 29.47161579, 'percent_change_60d': 352.43113182, 'percent_change_90d': 798.75290989, 'market_cap': 2640166679.0460405, 'last_updated': '2021-03-14T15:08:08.000Z'}}}, {'id': 5034, 'name': 'Kusama', 'symbol': 'KSM', 'slug': 'kusama', 'num_market_pairs': 69, 'date_added': '2019-12-12T00:00:00.000Z', 'tags': ['substrate', 'dot-ecosystem'], 'max_supply': None, 'circulating_supply': 8470098.05726206, 'total_supply': 9651217.45126206, 'platform': None, 'cmc_rank': 41, 'last_updated': '2021-03-14T15:08:09.000Z', 'quote': {'USD': {'price': 305.7039236633265, 'volume_24h': 170220075.122994, 'percent_change_1h': -2.24327288, 'percent_change_24h': -4.48564413, 'percent_change_7d': 28.32008529, 'percent_change_30d': 100.93536535, 'percent_change_60d': 347.92156561, 'percent_change_90d': 514.58069351, 'market_cap': 2589342209.918131, 'last_updated': '2021-03-14T15:08:09.000Z'}}}, {'id': 131, 'name': 'Dash', 'symbol': 'DASH', 'slug': 'dash', 'num_market_pairs': 372, 'date_added': '2014-02-14T00:00:00.000Z', 'tags': ['mineable', 'hybrid-pow-pos', 'x11', 'medium-of-exchange', 'privacy', 'masternodes'], 'max_supply': 18900000, 'circulating_supply': 10023307.45317572, 'total_supply': 10023307.45317572, 'platform': None, 'cmc_rank': 42, 'last_updated': '2021-03-14T15:09:03.000Z', 'quote': {'USD': {'price': 234.22900942652421, 'volume_24h': 967447764.7439331, 'percent_change_1h': -1.40350632, 'percent_change_24h': -1.69171018, 'percent_change_7d': 9.83368245, 'percent_change_30d': 41.14314949, 'percent_change_60d': 79.24500124, 'percent_change_90d': 144.14918267, 'market_cap': 2347749375.934846, 'last_updated': '2021-03-14T15:09:03.000Z'}}}, {'id': 6892, 'name': 'Elrond', 'symbol': 'EGLD', 'slug': 'elrond-egld', 'num_market_pairs': 37, 'date_added': '2020-09-04T00:00:00.000Z', 'tags': [], 'max_supply': 31415926, 'circulating_supply': 17116435.85604049, 'total_supply': 21348492, 'platform': None, 'cmc_rank': 43, 'last_updated': '2021-03-14T15:08:08.000Z', 'quote': {'USD': {'price': 134.55924761207203, 'volume_24h': 106416534.62175821, 'percent_change_1h': -0.37368685, 'percent_change_24h': -6.75732765, 'percent_change_7d': -8.47533036, 'percent_change_30d': -19.39855153, 'percent_change_60d': 316.77334766, 'percent_change_90d': 610.64386281, 'market_cap': 2303174730.5891004, 'last_updated': '2021-03-14T15:08:08.000Z'}}}, {'id': 2586, 'name': 'Synthetix', 'symbol': 'SNX', 'slug': 'synthetix-network-token', 'num_market_pairs': 167, 'date_added': '2018-03-14T00:00:00.000Z', 'tags': ['services', 'defi', 'dao', 'yield-farming', 'three-arrows-capital-portfolio'], 'max_supply': 212424133, 'circulating_supply': 114841533.01197928, 'total_supply': 215258834.2449152, 'platform': {'id': 1027, 'name': 'Ethereum', 'symbol': 'ETH', 'slug': 'ethereum', 'token_address': '0xc011a73ee8576fb46f5e1c5751ca3b9fe0af2a6f'}, 'cmc_rank': 44, 'last_updated': '2021-03-14T15:09:06.000Z', 'quote': {'USD': {'price': 19.40546630484716, 'volume_24h': 94027285.49671331, 'percent_change_1h': -0.84235602, 'percent_change_24h': -5.01894345, 'percent_change_7d': -9.52328952, 'percent_change_30d': -26.08497419, 'percent_change_60d': 29.28402792, 'percent_change_90d': 308.43054266, 'market_cap': 2228553499.260957, 'last_updated': '2021-03-14T15:09:06.000Z'}}}, {'id': 1168, 'name': 'Decred', 'symbol': 'DCR', 'slug': 'decred', 'num_market_pairs': 55, 'date_added': '2016-02-10T00:00:00.000Z', 'tags': ['mineable', 'hybrid-pow-pos', 'blake256', 'medium-of-exchange', 'store-of-value', 'privacy', 'dao'], 'max_supply': 21000000, 'circulating_supply': 12706079.27034257, 'total_supply': 12706079.27034257, 'platform': None, 'cmc_rank': 45, 'last_updated': '2021-03-14T15:09:03.000Z', 'quote': {'USD': {'price': 175.4639810456861, 'volume_24h': 33052393.01766536, 'percent_change_1h': -0.52780314, 'percent_change_24h': -0.70388405, 'percent_change_7d': 12.63037492, 'percent_change_30d': 64.76110346, 'percent_change_60d': 256.12137547, 'percent_change_90d': 560.82021948, 'market_cap': 2229459252.256374, 'last_updated': '2021-03-14T15:09:03.000Z'}}}, {'id': 6719, 'name': 'The Graph', 'symbol': 'GRT', 'slug': 'the-graph', 'num_market_pairs': 89, 'date_added': '2020-12-17T00:00:00.000Z', 'tags': ['ai-big-data', 'enterprise-solutions'], 'max_supply': 10000000000, 'circulating_supply': 1245666867, 'total_supply': 0, 'platform': {'id': 1027, 'name': 'Ethereum', 'symbol': 'ETH', 'slug': 'ethereum', 'token_address': '0xc944e90c64b2c07662a292be6244bdf05cda44a7'}, 'cmc_rank': 46, 'last_updated': '2021-03-14T15:08:06.000Z', 'quote': {'USD': {'price': 1.74561483134828, 'volume_24h': 240080129.51526642, 'percent_change_1h': -0.40996612, 'percent_change_24h': -7.14324104, 'percent_change_7d': -7.01004371, 'percent_change_30d': -37.55634091, 'percent_change_60d': 495.92691157, 'percent_change_90d': 0, 'market_cap': 2174454557.954345, 'last_updated': '2021-03-14T15:08:06.000Z'}}}, {'id': 6535, 'name': 'NEAR Protocol', 'symbol': 'NEAR', 'slug': 'near-protocol', 'num_market_pairs': 31, 'date_added': '2020-08-11T00:00:00.000Z', 'tags': ['platform', 'staking', 'coinbase-ventures-portfolio'], 'max_supply': 1000000000, 'circulating_supply': 317530390, 'total_supply': 1000000000, 'platform': None, 'cmc_rank': 47, 'last_updated': '2021-03-14T15:09:05.000Z', 'quote': {'USD': {'price': 6.75821792755615, 'volume_24h': 170469872.9462024, 'percent_change_1h': -0.36439999, 'percent_change_24h': -1.69776882, 'percent_change_7d': 60.8417733, 'percent_change_30d': 63.07656595, 'percent_change_60d': 337.89715229, 'percent_change_90d': 592.63135851, 'market_cap': 2145939574.2418962, 'last_updated': '2021-03-14T15:09:05.000Z'}}}, {'id': 1518, 'name': 'Maker', 'symbol': 'MKR', 'slug': 'maker', 'num_market_pairs': 203, 'date_added': '2017-01-29T00:00:00.000Z', 'tags': ['store-of-value', 'defi', 'dao', 'polychain-capital-portfolio'], 'max_supply': 1005577, 'circulating_supply': 995238.77828647, 'total_supply': 995238.77828647, 'platform': {'id': 1027, 'name': 'Ethereum', 'symbol': 'ETH', 'slug': 'ethereum', 'token_address': '0x9f8f72aa9304c8b593d555f12ef6589cc3a579a2'}, 'cmc_rank': 48, 'last_updated': '2021-03-14T15:09:06.000Z', 'quote': {'USD': {'price': 2140.5446392679814, 'volume_24h': 87286831.44457045, 'percent_change_1h': -1.99931446, 'percent_change_24h': -2.37709374, 'percent_change_7d': -2.9032442, 'percent_change_30d': -18.75741313, 'percent_change_60d': 39.88525201, 'percent_change_90d': 301.27255828, 'market_cap': 2130353031.6527185, 'last_updated': '2021-03-14T15:09:06.000Z'}}}, {'id': 5692, 'name': 'Compound', 'symbol': 'COMP', 'slug': 'compound', 'num_market_pairs': 171, 'date_added': '2020-06-16T00:00:00.000Z', 'tags': ['defi', 'dao', 'yield-farming', 'three-arrows-capital-portfolio', 'polychain-capital-portfolio'], 'max_supply': 10000000, 'circulating_supply': 4666000.29784754, 'total_supply': 10000000, 'platform': {'id': 1027, 'name': 'Ethereum', 'symbol': 'ETH', 'slug': 'ethereum', 'token_address': '0xc00e94cb662c3520282e6f5717214004a7f26888'}, 'cmc_rank': 49, 'last_updated': '2021-03-14T15:08:07.000Z', 'quote': {'USD': {'price': 442.2583102774177, 'volume_24h': 152718463.26750636, 'percent_change_1h': -0.71022213, 'percent_change_24h': -1.60744349, 'percent_change_7d': -9.31109965, 'percent_change_30d': -16.00691198, 'percent_change_60d': 108.60874151, 'percent_change_90d': 185.24675488, 'market_cap': 2063577407.479981, 'last_updated': '2021-03-14T15:08:07.000Z'}}}, {'id': 3822, 'name': 'Theta Fuel', 'symbol': 'TFUEL', 'slug': 'theta-fuel', 'num_market_pairs': 15, 'date_added': '2019-03-28T00:00:00.000Z', 'tags': ['media', 'content-creation', 'payments'], 'max_supply': None, 'circulating_supply': 5258547200, 'total_supply': 5258547200, 'platform': None, 'cmc_rank': 50, 'last_updated': '2021-03-14T15:08:08.000Z', 'quote': {'USD': {'price': 0.38684066186004, 'volume_24h': 167187655.60564125, 'percent_change_1h': 4.3055303, 'percent_change_24h': 3.75638446, 'percent_change_7d': 166.54923019, 'percent_change_30d': 714.80532801, 'percent_change_60d': 1318.64815188, 'percent_change_90d': 2193.1812049, 'market_cap': 2034219879.27026, 'last_updated': '2021-03-14T15:08:08.000Z'}}}]}\n"
     ]
    }
   ],
   "source": [
    "parameters = {\n",
    "  'start':'1',\n",
    "  'limit':'50',\n",
    "  'convert':'USD'\n",
    "}\n",
    "try:\n",
    "  r = session.get(url, params=parameters)\n",
    "  data = json.loads(r.text)\n",
    "  print(data)\n",
    "except (ConnectionError, Timeout, TooManyRedirects) as e:\n",
    "  print(e)"
   ]
  },
  {
   "cell_type": "markdown",
   "metadata": {
    "collapsed": true
   },
   "source": [
    "**Task 2**"
   ]
  },
  {
   "cell_type": "code",
   "execution_count": 6,
   "metadata": {},
   "outputs": [],
   "source": [
    "dictionary = r.json()['data']"
   ]
  },
  {
   "cell_type": "markdown",
   "metadata": {
    "collapsed": true
   },
   "source": [
    "**Task 3**"
   ]
  },
  {
   "cell_type": "code",
   "execution_count": 7,
   "metadata": {},
   "outputs": [
    {
     "name": "stdout",
     "output_type": "stream",
     "text": [
      "Bitcoin\n",
      "Current market cap: 1118723542243.6628\n"
     ]
    }
   ],
   "source": [
    "data = dictionary[0]\n",
    "print(str(data['name']))\n",
    "print(\"Current market cap: \" + str(data['quote']['USD']['market_cap']))"
   ]
  },
  {
   "cell_type": "markdown",
   "metadata": {
    "collapsed": true
   },
   "source": [
    "**Task 4**"
   ]
  },
  {
   "cell_type": "code",
   "execution_count": 8,
   "metadata": {},
   "outputs": [
    {
     "name": "stdout",
     "output_type": "stream",
     "text": [
      "Sum of top 50 market caps: 1705705630326.5586\n"
     ]
    }
   ],
   "source": [
    "total = 0\n",
    "for i in range(50):\n",
    "    total = total + dictionary[i]['quote']['USD']['market_cap']\n",
    "print(\"Sum of top 50 market caps: \" + str(total))\n",
    "    "
   ]
  },
  {
   "cell_type": "markdown",
   "metadata": {
    "collapsed": true
   },
   "source": [
    "**Task 5**"
   ]
  },
  {
   "cell_type": "code",
   "execution_count": 9,
   "metadata": {},
   "outputs": [
    {
     "name": "stdout",
     "output_type": "stream",
     "text": [
      "Divisor: 1000000000000.0\n"
     ]
    }
   ],
   "source": [
    "divisor = 1e12\n",
    "print(\"Divisor: \" + str(divisor))"
   ]
  },
  {
   "cell_type": "markdown",
   "metadata": {
    "collapsed": true
   },
   "source": [
    "**Task 6**"
   ]
  },
  {
   "cell_type": "code",
   "execution_count": 10,
   "metadata": {},
   "outputs": [
    {
     "name": "stdout",
     "output_type": "stream",
     "text": [
      "Cryptobucks 50 index: 1.7057056303265585\n"
     ]
    }
   ],
   "source": [
    "cb50 = total/divisor\n",
    "print(\"Cryptobucks 50 index: \" + str(cb50))"
   ]
  },
  {
   "cell_type": "markdown",
   "metadata": {},
   "source": [
    " "
   ]
  }
 ],
 "metadata": {
  "kernelspec": {
   "display_name": "Python 3",
   "language": "python",
   "name": "python3"
  },
  "language_info": {
   "codemirror_mode": {
    "name": "ipython",
    "version": 3
   },
   "file_extension": ".py",
   "mimetype": "text/x-python",
   "name": "python",
   "nbconvert_exporter": "python",
   "pygments_lexer": "ipython3",
   "version": "3.9.2"
  }
 },
 "nbformat": 4,
 "nbformat_minor": 2
}
